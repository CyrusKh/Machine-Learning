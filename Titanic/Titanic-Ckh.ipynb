{
 "cells": [
  {
   "cell_type": "markdown",
   "metadata": {},
   "source": [
    "# Titanic from Kaggle"
   ]
  },
  {
   "cell_type": "markdown",
   "metadata": {},
   "source": [
    "I use random forest and grid search for this project..."
   ]
  },
  {
   "cell_type": "markdown",
   "metadata": {
    "collapsed": true
   },
   "source": [
    "### Step 1 : A Quick Preliminary Model to Set a Benchmark"
   ]
  },
  {
   "cell_type": "code",
   "execution_count": 111,
   "metadata": {
    "collapsed": false
   },
   "outputs": [
    {
     "name": "stderr",
     "output_type": "stream",
     "text": [
      "C:\\Users\\Cyrus\\Anaconda3\\lib\\site-packages\\pandas\\core\\generic.py:3295: SettingWithCopyWarning: \n",
      "A value is trying to be set on a copy of a slice from a DataFrame\n",
      "\n",
      "See the caveats in the documentation: http://pandas.pydata.org/pandas-docs/stable/indexing.html#indexing-view-versus-copy\n",
      "  self._update_inplace(new_data)\n"
     ]
    },
    {
     "data": {
      "text/plain": [
       "0.83856502242152464"
      ]
     },
     "execution_count": 111,
     "metadata": {},
     "output_type": "execute_result"
    }
   ],
   "source": [
    "%matplotlib inline\n",
    "import pandas as pd\n",
    "import numpy as np\n",
    "from sklearn.preprocessing import LabelEncoder\n",
    "import random\n",
    "from sklearn.ensemble import RandomForestClassifier\n",
    "from sklearn.ensemble import GradientBoostingClassifier\n",
    "from sklearn.metrics import roc_curve, auc\n",
    "from sklearn.model_selection import train_test_split\n",
    "from sklearn.metrics import accuracy_score\n",
    "import matplotlib.pyplot as plt\n",
    "\n",
    "train=pd.read_csv('train.csv')\n",
    "test=pd.read_csv('test.csv')\n",
    "\n",
    "train['Type']='Train' #Create a flag for Train and Test Data set\n",
    "test['Type']='Test'\n",
    "fullData = pd.concat([train,test],axis=0) #Combined both Train and Test Data set\n",
    "\n",
    "ID_col = ['PassengerId']\n",
    "target_col = [\"Survived\"]\n",
    "other_col=['Type'] \n",
    "\n",
    "cat_cols = list(set(list(fullData.columns[fullData.dtypes=='object']))-set(other_col))\n",
    "num_cols= list(set(list(fullData.columns))-set(cat_cols)-set(ID_col)-set(target_col)-set(other_col))\n",
    "\n",
    "#Impute Missing values (numerical and categorical)\n",
    "\n",
    "fullData[num_cols] = fullData[num_cols].fillna(fullData[num_cols].median(),inplace=True)\n",
    "fullData[cat_cols] = fullData[cat_cols].fillna(value = -9999)\n",
    "\n",
    "for col in cat_cols:\n",
    "    fullData[col] = pd.Categorical(fullData[col])\n",
    "\n",
    "fullData[cat_cols] = fullData[cat_cols].apply(lambda x: x.cat.codes)\n",
    "\n",
    "train=fullData[fullData['Type']=='Train']\n",
    "test=fullData[fullData['Type']=='Test']    \n",
    "\n",
    "#Modeling\n",
    "X = ['Age', 'Cabin', 'Embarked', 'Fare', 'Name', 'Parch', \n",
    "       'Pclass', 'Sex', 'SibSp', 'Ticket'] #'PassengerId', 'Type'\n",
    "\n",
    "y = ['Survived']\n",
    "\n",
    "X_train, X_test, y_train, y_test = train_test_split(train[X], train[y])\n",
    "\n",
    "clf_rf = RandomForestClassifier(n_estimators=50, max_features='sqrt')\n",
    "clf_rf = clf_rf.fit(X_train[X], y_train[y].values.ravel())\n",
    "\n",
    "accuracy_score(y_test[y],clf_rf.predict(X_test[X]))"
   ]
  },
  {
   "cell_type": "markdown",
   "metadata": {},
   "source": [
    "### It's fair for the starter but let's tune up the model and do some feature engineering"
   ]
  },
  {
   "cell_type": "code",
   "execution_count": 112,
   "metadata": {
    "collapsed": false
   },
   "outputs": [
    {
     "data": {
      "text/plain": [
       "<matplotlib.axes._subplots.AxesSubplot at 0xd470e10>"
      ]
     },
     "execution_count": 112,
     "metadata": {},
     "output_type": "execute_result"
    },
    {
     "data": {
      "image/png": "[encoded data removed]",
      "text/plain": [
       "<matplotlib.figure.Figure at 0xd470080>"
      ]
     },
     "metadata": {},
     "output_type": "display_data"
    }
   ],
   "source": [
    "features = pd.DataFrame()\n",
    "features['feature'] = X \n",
    "features['importance'] = clf_rf.feature_importances_\n",
    "features.sort_values(by=['importance'], ascending=True, inplace=True)\n",
    "features.set_index('feature', inplace=True)\n",
    "features.plot(kind='barh', figsize=(5, 5))"
   ]
  },
  {
   "cell_type": "markdown",
   "metadata": {},
   "source": [
    "So a couple of things to do:\n",
    "\n",
    "1- Age was one of the columns with the most missing values that I simply imputed with the median! So a better job needs to be done.\n",
    "\n",
    "2- There has to be some info in Ticket and Name columns that we need to extract. Looking at tickets, some of them have a two parts, i.e. some first part such as A/5, STON/02. CA. etc plus a following number.\n",
    "Also, Name column contains titles like Mr., Mrs. Miss. etc. "
   ]
  },
  {
   "cell_type": "code",
   "execution_count": 115,
   "metadata": {
    "collapsed": false
   },
   "outputs": [],
   "source": [
    "train=pd.read_csv('train.csv')\n",
    "test=pd.read_csv('test.csv')\n",
    "train['Type']='Train' \n",
    "test['Type']='Test'\n",
    "fullData = pd.concat([train,test],axis=0) "
   ]
  },
  {
   "cell_type": "code",
   "execution_count": 116,
   "metadata": {
    "collapsed": true
   },
   "outputs": [],
   "source": [
    "# Processing the Titles...\n",
    "\n",
    "def get_titles():\n",
    "    a=[]\n",
    "    for i in fullData.Name:\n",
    "        a.append(i.rsplit(', ')[1].split('.')[0])\n",
    "    title_dictionary=set(a)\n",
    "    return title_dictionary\n",
    "\n",
    "get_titles()    \n",
    "\n",
    "fullData['Title'] = fullData['Name'].map(lambda name:name.split(', ')[1].split('.')[0].strip())"
   ]
  },
  {
   "cell_type": "code",
   "execution_count": 117,
   "metadata": {
    "collapsed": true
   },
   "outputs": [],
   "source": [
    "# Processing the Age...\n",
    "\n",
    "grouped_train = fullData[fullData['Type']=='Train'].groupby(['Sex','Pclass','Title'])\n",
    "grouped_median_train = grouped_train.median()\n",
    "\n",
    "grouped_test = fullData[fullData['Type']=='Test'].groupby(['Sex','Pclass','Title'])\n",
    "grouped_median_test = grouped_test.median()\n",
    "\n",
    "def fillAges(row, grouped_median):\n",
    "    return grouped_median.loc[row['Sex'], row['Pclass'], row['Title']]['Age'] \n",
    "\n",
    "fullData['Age']=fullData[fullData['Type']=='Train'].apply(lambda x : fillAges(x, grouped_median_train) if np.isnan(x['Age']) else x['Age'], axis=1)"
   ]
  },
  {
   "cell_type": "code",
   "execution_count": 118,
   "metadata": {
    "collapsed": false
   },
   "outputs": [],
   "source": [
    "fullData.drop('Name',axis=0,inplace=True)\n",
    "\n",
    "    # encoding in dummy variable\n",
    "titles_dummies = pd.get_dummies(fullData['Title'],prefix='Title')\n",
    "fullData = pd.concat([fullData,titles_dummies],axis=1)\n",
    "\n",
    "    #removing the title variable\n",
    "fullData.drop('Title',axis=1,inplace=True)"
   ]
  },
  {
   "cell_type": "code",
   "execution_count": 119,
   "metadata": {
    "collapsed": false
   },
   "outputs": [
    {
     "name": "stderr",
     "output_type": "stream",
     "text": [
      "C:\\Users\\Cyrus\\Anaconda3\\lib\\site-packages\\pandas\\core\\generic.py:3295: SettingWithCopyWarning: \n",
      "A value is trying to be set on a copy of a slice from a DataFrame\n",
      "\n",
      "See the caveats in the documentation: http://pandas.pydata.org/pandas-docs/stable/indexing.html#indexing-view-versus-copy\n",
      "  self._update_inplace(new_data)\n"
     ]
    }
   ],
   "source": [
    "# Processing the Fare...\n",
    "\n",
    "    # Train\n",
    "fullData.head(891).Fare.fillna(fullData.head(891).Fare.mean(), inplace=True)\n",
    "    #Test\n",
    "fullData.iloc[891:].Fare.fillna(fullData.iloc[891:].Fare.mean(), inplace=True)"
   ]
  },
  {
   "cell_type": "code",
   "execution_count": 120,
   "metadata": {
    "collapsed": false
   },
   "outputs": [
    {
     "name": "stderr",
     "output_type": "stream",
     "text": [
      "C:\\Users\\Cyrus\\Anaconda3\\lib\\site-packages\\pandas\\core\\generic.py:3295: SettingWithCopyWarning: \n",
      "A value is trying to be set on a copy of a slice from a DataFrame\n",
      "\n",
      "See the caveats in the documentation: http://pandas.pydata.org/pandas-docs/stable/indexing.html#indexing-view-versus-copy\n",
      "  self._update_inplace(new_data)\n"
     ]
    }
   ],
   "source": [
    "# Processing the Embarked...\n",
    "\n",
    "fullData.head(891).Embarked.fillna('S', inplace=True)\n",
    "fullData.iloc[891:].Embarked.fillna('S', inplace=True)\n",
    "    # dummy encoding \n",
    "embarked_dummies = pd.get_dummies(fullData['Embarked'],prefix='Embarked')\n",
    "fullData = pd.concat([fullData,embarked_dummies],axis=1)\n",
    "fullData.drop('Embarked',axis=1,inplace=True)"
   ]
  },
  {
   "cell_type": "code",
   "execution_count": 121,
   "metadata": {
    "collapsed": true
   },
   "outputs": [],
   "source": [
    "# Processing the Cabin...\n",
    "\n",
    "fullData.Cabin.fillna('U', inplace=True)\n",
    "\n",
    "    # mapping each Cabin value with the cabin letter\n",
    "fullData['Cabin'] = fullData['Cabin'].map(lambda c : c[0])\n",
    "\n",
    "    # dummy encoding ...\n",
    "cabin_dummies = pd.get_dummies(fullData['Cabin'], prefix='Cabin')\n",
    "\n",
    "fullData = pd.concat([fullData,cabin_dummies], axis=1)\n",
    "\n",
    "fullData.drop('Cabin', axis=1, inplace=True)"
   ]
  },
  {
   "cell_type": "code",
   "execution_count": 122,
   "metadata": {
    "collapsed": true
   },
   "outputs": [],
   "source": [
    "# Processing the Sex...\n",
    "\n",
    "fullData['Sex'] = fullData['Sex'].map({'male':1,'female':0})"
   ]
  },
  {
   "cell_type": "code",
   "execution_count": 123,
   "metadata": {
    "collapsed": true
   },
   "outputs": [],
   "source": [
    "# Processing the Pclass...\n",
    "\n",
    "pclass_dummies = pd.get_dummies(fullData['Pclass'], prefix=\"Pclass\")\n",
    "\n",
    "    # adding dummy variables\n",
    "fullData = pd.concat([fullData,pclass_dummies],axis=1)\n",
    "\n",
    "    # removing \"Pclass\"\n",
    "\n",
    "fullData.drop('Pclass',axis=1,inplace=True)"
   ]
  },
  {
   "cell_type": "code",
   "execution_count": 124,
   "metadata": {
    "collapsed": true
   },
   "outputs": [],
   "source": [
    "# Processing the Ticket...\n",
    "\n",
    "def cleanTicket(ticket):\n",
    "    ticket = ticket.replace('.','')\n",
    "    ticket = ticket.replace('/','')\n",
    "    ticket = ticket.split()\n",
    "    ticket = map(lambda t : t.strip(), ticket)\n",
    "    ticket = list(filter(lambda t : not t.isdigit(), ticket))\n",
    "\n",
    "    if len(ticket) > 0:\n",
    "        return ticket[0]\n",
    "    else: \n",
    "        return 'XXX'\n",
    "\n",
    "    # Extracting dummy variables from tickets:\n",
    "\n",
    "fullData['Ticket'] = fullData['Ticket'].map(cleanTicket)\n",
    "tickets_dummies = pd.get_dummies(fullData['Ticket'], prefix='Ticket')\n",
    "fullData = pd.concat([fullData, tickets_dummies], axis=1)\n",
    "fullData.drop('Ticket', inplace=True, axis=1)"
   ]
  },
  {
   "cell_type": "code",
   "execution_count": 125,
   "metadata": {
    "collapsed": true
   },
   "outputs": [],
   "source": [
    "# Making a new feature for family size...\n",
    "\n",
    "    # the size of families (including the passenger)\n",
    "fullData['FamilySize'] = fullData['Parch'] + fullData['SibSp'] + 1\n",
    "\n",
    "    # introducing other features based on the family size\n",
    "fullData['Singleton'] = fullData['FamilySize'].map(lambda s: 1 if s == 1 else 0)\n",
    "fullData['SmallFamily'] = fullData['FamilySize'].map(lambda s: 1 if 2<=s<=4 else 0)\n",
    "fullData['LargeFamily'] = fullData['FamilySize'].map(lambda s: 1 if 5<=s else 0)"
   ]
  },
  {
   "cell_type": "code",
   "execution_count": 126,
   "metadata": {
    "collapsed": false
   },
   "outputs": [],
   "source": [
    "fullData.drop('PassengerId', inplace=True, axis=1)"
   ]
  },
  {
   "cell_type": "markdown",
   "metadata": {},
   "source": [
    "### Step 2: Fine-Tuning the Model..."
   ]
  },
  {
   "cell_type": "code",
   "execution_count": 127,
   "metadata": {
    "collapsed": false
   },
   "outputs": [],
   "source": [
    "from sklearn.pipeline import make_pipeline\n",
    "from sklearn.ensemble import RandomForestClassifier\n",
    "from sklearn.feature_selection import SelectKBest\n",
    "from sklearn.cross_validation import StratifiedKFold\n",
    "from sklearn.grid_search import GridSearchCV\n",
    "from sklearn.ensemble.gradient_boosting import GradientBoostingClassifier\n",
    "from sklearn.cross_validation import cross_val_score"
   ]
  },
  {
   "cell_type": "code",
   "execution_count": 129,
   "metadata": {
    "collapsed": false
   },
   "outputs": [],
   "source": [
    "train=fullData[fullData['Type']=='Train'].drop('Type',axis='columns')\n",
    "test=fullData[fullData['Type']=='Test'].drop('Type',axis='columns')"
   ]
  },
  {
   "cell_type": "code",
   "execution_count": 130,
   "metadata": {
    "collapsed": false
   },
   "outputs": [],
   "source": [
    "train.drop('Name',axis='columns', inplace=True)\n",
    "test.drop('Name',axis='columns', inplace=True)"
   ]
  },
  {
   "cell_type": "code",
   "execution_count": 131,
   "metadata": {
    "collapsed": false
   },
   "outputs": [],
   "source": [
    "from sklearn.ensemble import RandomForestClassifier\n",
    "from sklearn.feature_selection import SelectFromModel\n",
    "\n",
    "X=['Age', 'Fare', 'Parch', 'Sex', 'SibSp', 'Title_Capt',\n",
    "       'Title_Col', 'Title_Don', 'Title_Dona', 'Title_Dr', 'Title_Jonkheer',\n",
    "       'Title_Lady', 'Title_Major', 'Title_Master', 'Title_Miss', 'Title_Mlle',\n",
    "       'Title_Mme', 'Title_Mr', 'Title_Mrs', 'Title_Ms', 'Title_Rev',\n",
    "       'Title_Sir', 'Title_the Countess', 'Embarked_C', 'Embarked_Q',\n",
    "       'Embarked_S', 'Cabin_A', 'Cabin_B', 'Cabin_C', 'Cabin_D', 'Cabin_E',\n",
    "       'Cabin_F', 'Cabin_G', 'Cabin_T', 'Cabin_U', 'Pclass_1', 'Pclass_2',\n",
    "       'Pclass_3', 'Ticket_A', 'Ticket_A4', 'Ticket_A5', 'Ticket_AQ3',\n",
    "       'Ticket_AQ4', 'Ticket_AS', 'Ticket_C', 'Ticket_CA', 'Ticket_CASOTON',\n",
    "       'Ticket_FC', 'Ticket_FCC', 'Ticket_Fa', 'Ticket_LINE', 'Ticket_LP',\n",
    "       'Ticket_PC', 'Ticket_PP', 'Ticket_PPP', 'Ticket_SC', 'Ticket_SCA3',\n",
    "       'Ticket_SCA4', 'Ticket_SCAH', 'Ticket_SCOW', 'Ticket_SCPARIS',\n",
    "       'Ticket_SCParis', 'Ticket_SOC', 'Ticket_SOP', 'Ticket_SOPP',\n",
    "       'Ticket_SOTONO2', 'Ticket_SOTONOQ', 'Ticket_SP', 'Ticket_STONO',\n",
    "       'Ticket_STONO2', 'Ticket_STONOQ', 'Ticket_SWPP', 'Ticket_WC',\n",
    "       'Ticket_WEP', 'Ticket_XXX', 'FamilySize', 'Singleton', 'SmallFamily',\n",
    "       'LargeFamily']\n",
    "y=['Survived']\n",
    "\n",
    "X_train, X_test, y_train, y_test = train_test_split(train[X], train[y])\n",
    "\n",
    "clf_rf = RandomForestClassifier(n_estimators=50, max_features='sqrt')\n",
    "\n",
    "clf_rf = clf_rf.fit(X_train[X], y_train[y].values.ravel())"
   ]
  },
  {
   "cell_type": "code",
   "execution_count": 133,
   "metadata": {
    "collapsed": false
   },
   "outputs": [
    {
     "data": {
      "text/plain": [
       "<matplotlib.axes._subplots.AxesSubplot at 0xd756358>"
      ]
     },
     "execution_count": 133,
     "metadata": {},
     "output_type": "execute_result"
    },
    {
     "data": {
      "image/png": "[encoded data removed]",
      "text/plain": [
       "<matplotlib.figure.Figure at 0xd65f630>"
      ]
     },
     "metadata": {},
     "output_type": "display_data"
    }
   ],
   "source": [
    "features = pd.DataFrame()\n",
    "features['feature'] = ['Age', 'Fare', 'Parch', 'Sex', 'SibSp', 'Title_Capt',\n",
    "       'Title_Col', 'Title_Don', 'Title_Dona', 'Title_Dr', 'Title_Jonkheer',\n",
    "       'Title_Lady', 'Title_Major', 'Title_Master', 'Title_Miss', 'Title_Mlle',\n",
    "       'Title_Mme', 'Title_Mr', 'Title_Mrs', 'Title_Ms', 'Title_Rev',\n",
    "       'Title_Sir', 'Title_the Countess', 'Embarked_C', 'Embarked_Q',\n",
    "       'Embarked_S', 'Cabin_A', 'Cabin_B', 'Cabin_C', 'Cabin_D', 'Cabin_E',\n",
    "       'Cabin_F', 'Cabin_G', 'Cabin_T', 'Cabin_U', 'Pclass_1', 'Pclass_2',\n",
    "       'Pclass_3', 'Ticket_A', 'Ticket_A4', 'Ticket_A5', 'Ticket_AQ3',\n",
    "       'Ticket_AQ4', 'Ticket_AS', 'Ticket_C', 'Ticket_CA', 'Ticket_CASOTON',\n",
    "       'Ticket_FC', 'Ticket_FCC', 'Ticket_Fa', 'Ticket_LINE', 'Ticket_LP',\n",
    "       'Ticket_PC', 'Ticket_PP', 'Ticket_PPP', 'Ticket_SC', 'Ticket_SCA3',\n",
    "       'Ticket_SCA4', 'Ticket_SCAH', 'Ticket_SCOW', 'Ticket_SCPARIS',\n",
    "       'Ticket_SCParis', 'Ticket_SOC', 'Ticket_SOP', 'Ticket_SOPP',\n",
    "       'Ticket_SOTONO2', 'Ticket_SOTONOQ', 'Ticket_SP', 'Ticket_STONO',\n",
    "       'Ticket_STONO2', 'Ticket_STONOQ', 'Ticket_SWPP', 'Ticket_WC',\n",
    "       'Ticket_WEP', 'Ticket_XXX', 'FamilySize', 'Singleton', 'SmallFamily',\n",
    "       'LargeFamily']\n",
    "\n",
    "features['importance'] = clf_rf.feature_importances_\n",
    "\n",
    "features.sort_values(by=['importance'], ascending=True, inplace=True)\n",
    "features.set_index('feature', inplace=True)\n",
    "\n",
    "features.plot(kind='barh', figsize=(20, 20))"
   ]
  },
  {
   "cell_type": "code",
   "execution_count": 134,
   "metadata": {
    "collapsed": false
   },
   "outputs": [
    {
     "data": {
      "text/plain": [
       "(891, 17)"
      ]
     },
     "execution_count": 134,
     "metadata": {},
     "output_type": "execute_result"
    }
   ],
   "source": [
    "model = SelectFromModel(clf_rf, prefit=True)\n",
    "train_reduced = model.transform(train[X])\n",
    "train_reduced.shape"
   ]
  },
  {
   "cell_type": "code",
   "execution_count": 135,
   "metadata": {
    "collapsed": false
   },
   "outputs": [
    {
     "data": {
      "text/plain": [
       "(418, 17)"
      ]
     },
     "execution_count": 135,
     "metadata": {},
     "output_type": "execute_result"
    }
   ],
   "source": [
    "test_reduced = model.transform(test[X])\n",
    "test_reduced.shape"
   ]
  },
  {
   "cell_type": "code",
   "execution_count": 136,
   "metadata": {
    "collapsed": false
   },
   "outputs": [],
   "source": [
    "# The run_gs has to be True if gridsearch is going to run again...\n",
    "run_gs = False\n",
    "\n",
    "if run_gs:\n",
    "    parameter_grid = {\n",
    "                 'max_depth' : [4, 6, 8],\n",
    "                 'n_estimators': [50, 10],\n",
    "                 'max_features': ['sqrt', 'auto', 'log2'],\n",
    "                 'min_samples_split': [1, 3, 10],\n",
    "                 'min_samples_leaf': [1, 3, 10],\n",
    "                 'bootstrap': [True, False],\n",
    "                 }\n",
    "    forest = RandomForestClassifier()\n",
    "    cross_validation = StratifiedKFold(y_train[y], n_folds=5)\n",
    "\n",
    "    grid_search = GridSearchCV(forest,\n",
    "                               scoring='accuracy',\n",
    "                               param_grid=parameter_grid,\n",
    "                               cv=cross_validation)\n",
    "\n",
    "    grid_search.fit(X_train[X], y_train[y])\n",
    "    model = grid_search\n",
    "    parameters = grid_search.best_params_\n",
    "\n",
    "    print('Best score: {}'.format(grid_search.best_score_))\n",
    "    print('Best parameters: {}'.format(grid_search.best_params_))\n",
    "else: \n",
    "    parameters = {'bootstrap': False, 'min_samples_leaf': 2, 'n_estimators': 50, \n",
    "                  'min_samples_split': 10, 'max_features': 'sqrt', 'max_depth': 6}\n",
    "    \n",
    "    model = RandomForestClassifier(**parameters)\n",
    "    model.fit(X_train[X], y_train[y].values.ravel())"
   ]
  },
  {
   "cell_type": "code",
   "execution_count": 137,
   "metadata": {
    "collapsed": false
   },
   "outputs": [
    {
     "data": {
      "text/plain": [
       "0.820627802690583"
      ]
     },
     "execution_count": 137,
     "metadata": {},
     "output_type": "execute_result"
    }
   ],
   "source": [
    "accuracy_score(y_test[y],model.predict(X_test[X]))"
   ]
  },
  {
   "cell_type": "markdown",
   "metadata": {},
   "source": [
    "Not much improvement compared to our priliminary model. Need to dig deeper..."
   ]
  }
 ],
 "metadata": {
  "kernelspec": {
   "display_name": "Python 3",
   "language": "python",
   "name": "python3"
  },
  "language_info": {
   "codemirror_mode": {
    "name": "ipython",
    "version": 3
   },
   "file_extension": ".py",
   "mimetype": "text/x-python",
   "name": "python",
   "nbconvert_exporter": "python",
   "pygments_lexer": "ipython3",
   "version": "3.6.0"
  }
 },
 "nbformat": 4,
 "nbformat_minor": 2
}
